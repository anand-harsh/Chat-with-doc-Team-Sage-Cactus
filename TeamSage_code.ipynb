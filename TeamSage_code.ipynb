{
  "cells": [
    {
      "cell_type": "code",
      "execution_count": null,
      "metadata": {
        "id": "q9efInp3Wlup"
      },
      "outputs": [],
      "source": [
        "!pip install python-dotenv\n",
        "!pip install -q transformers einops accelerate langchain bitsandbytes\n",
        "!pip install sentence_transformers\n",
        "!pip install llama-index\n",
        "!pip install llama-index-llms-huggingface\n",
        "!pip install llama-index-embeddings-langchain"
      ]
    },
    {
      "cell_type": "code",
      "execution_count": null,
      "metadata": {
        "id": "QIN9-OiHwRMZ"
      },
      "outputs": [],
      "source": [
        "# for pptx, .pptm, .ppt\n",
        "!pip install python-pptx\n",
        "\n",
        "# for .mp3\n",
        "!pip install git+https://github.com/openai/whisper.git\n",
        "\n",
        "# .mp4\n",
        "!pip install moviepy\n",
        "\n",
        "# .csv\n",
        "!pip install csv\n",
        "\n",
        "# .epub\n",
        "!pip install EbookLib\n",
        "\n",
        "# .hwp\n",
        "!pip install pyhwp\n",
        "\n",
        "# .jpeg, .jpg\n",
        "!pip install jpeglib\n",
        "\n",
        "# .mbox\n",
        "!pip install mailbox\n",
        "\n",
        "# .md\n",
        "!pip install python-md\n",
        "\n",
        "# .pdf\n",
        "!pip install pypdf\n",
        "\n",
        "# .png\n",
        "!pip install pypng==0.0.9\n"
      ]
    },
    {
      "cell_type": "code",
      "execution_count": 3,
      "metadata": {
        "id": "COxp34FqXMih"
      },
      "outputs": [],
      "source": [
        "import logging\n",
        "import sys\n",
        "import torch\n",
        "\n",
        "logging.basicConfig(stream=sys.stdout, level=logging.INFO)\n",
        "logging.getLogger().addHandler(logging.StreamHandler(stream=sys.stdout))\n",
        "\n",
        "from llama_index.core import VectorStoreIndex, SimpleDirectoryReader, ServiceContext\n",
        "\n",
        "# Using huggingface llm\n",
        "from llama_index.llms.huggingface import HuggingFaceLLM\n",
        "\n",
        "documents = SimpleDirectoryReader(\"/content/sample_data/\").load_data()\n",
        "#for document in documents:\n",
        "#    print(document)"
      ]
    },
    {
      "cell_type": "code",
      "execution_count": 4,
      "metadata": {
        "id": "P5jQuxcs3EIJ"
      },
      "outputs": [],
      "source": [
        "from llama_index.core.prompts.prompts import SimpleInputPrompt\n",
        "\n",
        "system_prompt = \"You are a API which gives best and detailed response to the given queries by user to the context\"\n",
        "\n",
        "# This will wrap the default prompts that are internal to llama-index\n",
        "query_wrapper_prompt = SimpleInputPrompt(\"<|USER|>{query_str}<|ASSISTANT|>\")"
      ]
    },
    {
      "cell_type": "code",
      "execution_count": null,
      "metadata": {
        "id": "r1BGUftGYp71"
      },
      "outputs": [],
      "source": [
        "!huggingface-cli login"
      ]
    },
    {
      "cell_type": "code",
      "execution_count": null,
      "metadata": {
        "id": "n3xDIpQZaP8Z"
      },
      "outputs": [],
      "source": [
        "!pip install -i https://pypi.org/simple/ bitsandbytes"
      ]
    },
    {
      "cell_type": "code",
      "execution_count": null,
      "metadata": {
        "id": "BhyzesSOYuRf"
      },
      "outputs": [],
      "source": [
        "llm = HuggingFaceLLM(\n",
        "    context_window=4096,\n",
        "    max_new_tokens=256,\n",
        "    generate_kwargs={\"temperature\": 0.7, \"do_sample\": False},\n",
        "    system_prompt=system_prompt,\n",
        "    query_wrapper_prompt=query_wrapper_prompt,\n",
        "    tokenizer_name=\"meta-llama/Llama-2-7b-chat-hf\",\n",
        "    model_name=\"meta-llama/Llama-2-7b-chat-hf\",\n",
        "    device_map=\"auto\",\n",
        "    model_kwargs={\"torch_dtype\": torch.float16}\n",
        ")\n",
        "# 2m 28sec - 7B model"
      ]
    },
    {
      "cell_type": "code",
      "execution_count": null,
      "metadata": {
        "id": "6mT0mMqtctGl"
      },
      "outputs": [],
      "source": [
        "from langchain.embeddings.huggingface import HuggingFaceEmbeddings\n",
        "from llama_index.embeddings.langchain import LangchainEmbedding\n",
        "from llama_index.core import ServiceContext\n",
        "\n",
        "embed_model = LangchainEmbedding(\n",
        "  HuggingFaceEmbeddings(model_name=\"sentence-transformers/all-mpnet-base-v2\")\n",
        ")\n"
      ]
    },
    {
      "cell_type": "code",
      "execution_count": null,
      "metadata": {
        "colab": {
          "background_save": true
        },
        "id": "co_Z06HpdqxX"
      },
      "outputs": [],
      "source": [
        "service_context = ServiceContext.from_defaults(\n",
        "    chunk_size=1024,\n",
        "    llm=llm,\n",
        "    embed_model=embed_model\n",
        ")\n",
        "index = VectorStoreIndex.from_documents(documents, service_context=service_context)\n",
        "query_engine = index.as_query_engine()\n",
        "while True:\n",
        "  query=input()\n",
        "  response = query_engine.query(query)\n",
        "  print(response)"
      ]
    }
  ],
  "metadata": {
    "accelerator": "TPU",
    "colab": {
      "provenance": []
    },
    "kernelspec": {
      "display_name": "Python 3",
      "name": "python3"
    },
    "language_info": {
      "name": "python"
    }
  },
  "nbformat": 4,
  "nbformat_minor": 0
}